{
 "cells": [
  {
   "cell_type": "markdown",
   "id": "effc456b-4d55-43a5-bf78-7266988a8c23",
   "metadata": {},
   "source": [
    "# BMI CALCULATOR"
   ]
  },
  {
   "cell_type": "code",
   "execution_count": 32,
   "id": "3509fd85-c3a4-46ad-afb2-176f0169e7a3",
   "metadata": {},
   "outputs": [
    {
     "name": "stdin",
     "output_type": "stream",
     "text": [
      "Enter your Name:  Prajjwol Thapa\n",
      "Enter your weight in pounds:  150\n",
      "Enter your height in inches:  58\n"
     ]
    },
    {
     "name": "stdout",
     "output_type": "stream",
     "text": [
      "Prajjwol Thapa, you are obesed.\n"
     ]
    }
   ],
   "source": [
    "name = input(\"Enter your Name: \")\n",
    "\n",
    "weight = float(input(\"Enter your weight in pounds: \"))\n",
    "\n",
    "height = float(input(\"Enter your height in inches: \"))\n",
    "\n",
    "BMI = (weight  * 703) / (height * height )\n",
    "\n",
    "if(BMI >0):\n",
    "    if(BMI < 18.5):\n",
    "        print(name + \", you are underweight.\")\n",
    "    elif(BMI <= 24.9):\n",
    "        print(name + \", you have normal weight.\")\n",
    "    elif(BMI <= 29.9):\n",
    "        print(name + \", you are overweight.\")\n",
    "    elif(BMI <= 24.9):\n",
    "        print(name + \", you have normal weight.\")\n",
    "    elif(BMI <= 34.9):\n",
    "        print(name + \", you are obesed.\")\n",
    "    elif(BMI <= 39.9):\n",
    "        print(name + \", you are severly obesed.\")\n",
    "    elif(BMI >= 40):\n",
    "        print(name + \", you are morbidly obesed.\")\n",
    "    else:\n",
    "        print(name + \", please enter the valid data.\")"
   ]
  },
  {
   "cell_type": "code",
   "execution_count": null,
   "id": "057c1efa-828f-4c72-8a1e-0a417bf14d77",
   "metadata": {},
   "outputs": [],
   "source": []
  },
  {
   "cell_type": "code",
   "execution_count": null,
   "id": "d057dd84-bfbe-4eec-b632-d35219166274",
   "metadata": {},
   "outputs": [],
   "source": []
  },
  {
   "cell_type": "code",
   "execution_count": null,
   "id": "e695227a-9267-4932-a0af-184ec772362c",
   "metadata": {},
   "outputs": [],
   "source": []
  },
  {
   "cell_type": "code",
   "execution_count": null,
   "id": "41241a2b-ed82-4a87-9e59-923c3e27d5c3",
   "metadata": {},
   "outputs": [],
   "source": []
  },
  {
   "cell_type": "code",
   "execution_count": null,
   "id": "df40d2ff-f747-46b9-9fd1-730cddd3f613",
   "metadata": {},
   "outputs": [],
   "source": []
  },
  {
   "cell_type": "code",
   "execution_count": null,
   "id": "92d8ef5b-96af-44c8-98d2-ca48d595e8ae",
   "metadata": {},
   "outputs": [],
   "source": []
  },
  {
   "cell_type": "code",
   "execution_count": null,
   "id": "2ff64be4-74eb-4209-b0b1-38f1ae76744c",
   "metadata": {},
   "outputs": [],
   "source": []
  },
  {
   "cell_type": "code",
   "execution_count": null,
   "id": "1acc4a4b-1a04-4395-9509-be838fef6e5f",
   "metadata": {},
   "outputs": [],
   "source": []
  },
  {
   "cell_type": "code",
   "execution_count": null,
   "id": "6a97e391-a57e-47c5-a8ae-a32eeccb34c9",
   "metadata": {},
   "outputs": [],
   "source": []
  },
  {
   "cell_type": "code",
   "execution_count": null,
   "id": "cbe2f083-2dfb-4d82-b688-12a62e9fc1c3",
   "metadata": {},
   "outputs": [],
   "source": []
  },
  {
   "cell_type": "code",
   "execution_count": null,
   "id": "04ac8d86-970e-4207-8260-6bc62ca9efa9",
   "metadata": {},
   "outputs": [],
   "source": []
  },
  {
   "cell_type": "code",
   "execution_count": null,
   "id": "671ed964-d33f-4725-94e8-d7a93772b94b",
   "metadata": {},
   "outputs": [],
   "source": []
  },
  {
   "cell_type": "code",
   "execution_count": null,
   "id": "36f48ce9-f516-4b4a-91b9-dc8975f950c3",
   "metadata": {},
   "outputs": [],
   "source": []
  },
  {
   "cell_type": "code",
   "execution_count": null,
   "id": "1a88ef75-7542-4d13-86d4-6712d07b8795",
   "metadata": {},
   "outputs": [],
   "source": []
  },
  {
   "cell_type": "code",
   "execution_count": null,
   "id": "038eb15b-8a74-4a83-b4a7-44a7a24c6ee8",
   "metadata": {},
   "outputs": [],
   "source": []
  },
  {
   "cell_type": "code",
   "execution_count": null,
   "id": "537c053b-be9e-4372-ba74-794ba0af158c",
   "metadata": {},
   "outputs": [],
   "source": []
  }
 ],
 "metadata": {
  "kernelspec": {
   "display_name": "Python 3 (ipykernel)",
   "language": "python",
   "name": "python3"
  },
  "language_info": {
   "codemirror_mode": {
    "name": "ipython",
    "version": 3
   },
   "file_extension": ".py",
   "mimetype": "text/x-python",
   "name": "python",
   "nbconvert_exporter": "python",
   "pygments_lexer": "ipython3",
   "version": "3.12.4"
  }
 },
 "nbformat": 4,
 "nbformat_minor": 5
}
